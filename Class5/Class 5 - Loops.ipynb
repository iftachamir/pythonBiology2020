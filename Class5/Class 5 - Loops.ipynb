{
 "cells": [
  {
   "cell_type": "markdown",
   "metadata": {},
   "source": [
    "# Class 7 - Loops (`while` and `for`)"
   ]
  },
  {
   "cell_type": "markdown",
   "metadata": {},
   "source": [
    "Loops are repeated series of code until:\n",
    "- a pre-set number of repetitions is completed - `while`\n",
    "- a condition is met - `for`"
   ]
  },
  {
   "cell_type": "markdown",
   "metadata": {},
   "source": [
    "## `while`"
   ]
  },
  {
   "cell_type": "code",
   "execution_count": null,
   "metadata": {},
   "outputs": [],
   "source": [
    "# Count to N\n",
    "n = 1\n",
    "while n <= 10:\n",
    "    print(n)\n",
    "    n = n + 1"
   ]
  },
  {
   "cell_type": "markdown",
   "metadata": {},
   "source": [
    "### Exercises\n",
    "Write a loop that prints out your name one letter at a time."
   ]
  },
  {
   "cell_type": "code",
   "execution_count": null,
   "metadata": {},
   "outputs": [],
   "source": [
    "# Write a loop that prints out your name one letter at a time.\n",
    "myname = input('Enter your first name:')\n"
   ]
  },
  {
   "cell_type": "markdown",
   "metadata": {},
   "source": [
    "Write a loop that terminates once the password has been entered."
   ]
  },
  {
   "cell_type": "code",
   "execution_count": null,
   "metadata": {},
   "outputs": [],
   "source": [
    "# Write a loop that terminates once the password has been entered.\n",
    "password = 'password123'\n",
    "p = input('Enter the password:')\n"
   ]
  },
  {
   "cell_type": "markdown",
   "metadata": {},
   "source": [
    "## `for`"
   ]
  },
  {
   "cell_type": "markdown",
   "metadata": {},
   "source": [
    "### Iterating over a string"
   ]
  },
  {
   "cell_type": "code",
   "execution_count": null,
   "metadata": {},
   "outputs": [],
   "source": [
    "# Iterating over a string\n",
    "name = input('Enter your name:')\n",
    "for x in name:\n",
    "    print(x)\n"
   ]
  },
  {
   "cell_type": "markdown",
   "metadata": {},
   "source": [
    "### Iterating over a list"
   ]
  },
  {
   "cell_type": "code",
   "execution_count": null,
   "metadata": {},
   "outputs": [],
   "source": [
    "# Iterating over a list\n",
    "mylist = [1, 2.0, 'three', 'a', 'b', 'cee']\n",
    "for x in mylist:\n",
    "    print(x)"
   ]
  },
  {
   "cell_type": "markdown",
   "metadata": {},
   "source": [
    "### Using `range()` with `for`"
   ]
  },
  {
   "cell_type": "code",
   "execution_count": null,
   "metadata": {},
   "outputs": [],
   "source": [
    "print(range(5))\n",
    "print(type(range(5)))\n",
    "print(list(range(5)))"
   ]
  },
  {
   "cell_type": "code",
   "execution_count": null,
   "metadata": {},
   "outputs": [],
   "source": [
    "n = 10\n",
    "for each_n in range(n):\n",
    "    print('hi')"
   ]
  },
  {
   "cell_type": "code",
   "execution_count": null,
   "metadata": {},
   "outputs": [],
   "source": [
    "n = 10\n",
    "for each_n in range(n):\n",
    "    print('hi, ' + str(each_n))"
   ]
  },
  {
   "cell_type": "code",
   "execution_count": null,
   "metadata": {},
   "outputs": [],
   "source": [
    "n = 100\n",
    "for each_n in range(10,n,5):\n",
    "    print('hi, ' + str(each_n))"
   ]
  },
  {
   "cell_type": "code",
   "execution_count": null,
   "metadata": {},
   "outputs": [],
   "source": [
    "n = 100\n",
    "for each_n in range(n,10,-5):\n",
    "    print('hi, ' + str(each_n))"
   ]
  },
  {
   "cell_type": "markdown",
   "metadata": {},
   "source": [
    "#### Why the emphasis on `range`\n",
    "The *python* way vs. the \"generic\" way"
   ]
  },
  {
   "cell_type": "code",
   "execution_count": null,
   "metadata": {},
   "outputs": [],
   "source": [
    "days_of_week = ['sunday', 'monday', 'tuesday', 'wednesday', 'thursday']"
   ]
  },
  {
   "cell_type": "code",
   "execution_count": null,
   "metadata": {},
   "outputs": [],
   "source": [
    "# Generic way\n",
    "for i in range(len(days_of_week)):\n",
    "    print(days_of_week[i])"
   ]
  },
  {
   "cell_type": "code",
   "execution_count": null,
   "metadata": {},
   "outputs": [],
   "source": [
    "# Python way\n",
    "for each_day in days_of_week:\n",
    "    print(each_day)"
   ]
  },
  {
   "cell_type": "markdown",
   "metadata": {},
   "source": [
    "## Example of using loops"
   ]
  },
  {
   "cell_type": "code",
   "execution_count": null,
   "metadata": {},
   "outputs": [],
   "source": [
    "n_days = 30\n",
    "r0 = 1.5\n",
    "number_of_infected = 1\n",
    "for each_day in range(0, n_days):\n",
    "    \n",
    "    # update how many are infected?\n",
    "    number_of_infected = number_of_infected * r0\n",
    "    \n",
    "    print('Day ' + str(i) + ', number of infected = ' + str(round(number_of_infected,1)))"
   ]
  },
  {
   "cell_type": "code",
   "execution_count": null,
   "metadata": {},
   "outputs": [],
   "source": [
    "import matplotlib.pyplot as plt\n",
    "\n",
    "n_days = 30\n",
    "r0 = 1.5\n",
    "number_of_infected = [1]\n",
    "\n",
    "for each_day in range(1, n_days):\n",
    "    # update how many are infected?\n",
    "    number_of_infected.append(number_of_infected[each_day-1] * r0)\n",
    "    \n",
    "plt.plot(list(range(0,n_days)), number_of_infected)\n",
    "plt.xlabel('Days since first infection')\n",
    "plt.ylabel('Number of people infected')\n",
    "plt.show()"
   ]
  },
  {
   "cell_type": "code",
   "execution_count": null,
   "metadata": {},
   "outputs": [],
   "source": [
    "# INITIATE LOCK-DOWN\n",
    "rate_of_infection = .90\n",
    "day_counter = n_days\n",
    "\n",
    "# Count how many days until number of infected goes below 20,000\n",
    "while number_of_infected[day_counter-1] > 20_000:\n",
    "    \n",
    "    # update how many are infected?\n",
    "    number_of_infected.append(number_of_infected[day_counter-1] * rate_of_infection)\n",
    "    \n",
    "    # update days counter\n",
    "    day_counter = day_counter + 1\n",
    "\n",
    "# How many days until we end lockdown?\n",
    "print(str(day_counter) + ' days until lockdown ends')\n",
    "\n",
    "plt.plot(list(range(0,day_counter)), number_of_infected)\n",
    "plt.xlabel('Days since first infection')\n",
    "plt.ylabel('Number of people infected')\n",
    "plt.show()"
   ]
  },
  {
   "cell_type": "markdown",
   "metadata": {},
   "source": [
    "## `break` and `continue` in loops"
   ]
  },
  {
   "cell_type": "code",
   "execution_count": null,
   "metadata": {},
   "outputs": [],
   "source": [
    "mylist = ['a', 'b', 'cc', 'd', 'ee', 'f']\n",
    "for each_item in mylist:\n",
    "    if len(each_item) > 1:\n",
    "        continue\n",
    "    \n",
    "    print(each_item)\n",
    "\n",
    "print('The last item copied from the list (each_time) = ' + each_item)"
   ]
  },
  {
   "cell_type": "code",
   "execution_count": null,
   "metadata": {},
   "outputs": [],
   "source": [
    "mylist = ['a', 'b', 'cc', 'd', 'ee', 'f']\n",
    "for each_item in mylist:\n",
    "    if len(each_item) > 1:\n",
    "        break\n",
    "    \n",
    "    print(each_item)\n",
    "\n",
    "print('The last item copied from the list (each_time) = ' + each_item)"
   ]
  },
  {
   "cell_type": "code",
   "execution_count": null,
   "metadata": {},
   "outputs": [],
   "source": []
  },
  {
   "cell_type": "code",
   "execution_count": null,
   "metadata": {},
   "outputs": [],
   "source": []
  },
  {
   "cell_type": "code",
   "execution_count": null,
   "metadata": {},
   "outputs": [],
   "source": [
    "for index in range(5, 56):\n",
    "    if index % 2 == 0:\n",
    "        continue\n",
    "    print(index)"
   ]
  },
  {
   "cell_type": "code",
   "execution_count": null,
   "metadata": {},
   "outputs": [],
   "source": [
    "# Write a loop that asks user to enter a password until password is correct\n",
    "password = 'abc123'\n",
    "while True:\n",
    "    enterred_pass = input('Write you password:')\n",
    "    if enterred_pass==password:\n",
    "        break\n",
    "    else:\n",
    "        print('Incorrect')\n",
    "print('Correct password')"
   ]
  },
  {
   "cell_type": "code",
   "execution_count": null,
   "metadata": {},
   "outputs": [],
   "source": [
    "i = 0\n",
    "while True:\n",
    "    i = i + 1\n",
    "    print(i)"
   ]
  },
  {
   "cell_type": "code",
   "execution_count": 45,
   "metadata": {},
   "outputs": [
    {
     "name": "stdin",
     "output_type": "stream",
     "text": [
      " 3\n",
      " 4\n",
      " 1\n"
     ]
    },
    {
     "name": "stdout",
     "output_type": "stream",
     "text": [
      "[3, 4, 1]\n"
     ]
    },
    {
     "data": {
      "text/plain": [
       "8"
      ]
     },
     "execution_count": 45,
     "metadata": {},
     "output_type": "execute_result"
    }
   ],
   "source": [
    "numbers_list = []\n",
    "for index in range(3):\n",
    "    x = int(input())\n",
    "    numbers_list.append(x)\n",
    "    \n",
    "print(numbers_list)\n",
    "\n",
    "sum(numbers_list)"
   ]
  }
 ],
 "metadata": {
  "kernelspec": {
   "display_name": "Python 3",
   "language": "python",
   "name": "python3"
  },
  "language_info": {
   "codemirror_mode": {
    "name": "ipython",
    "version": 3
   },
   "file_extension": ".py",
   "mimetype": "text/x-python",
   "name": "python",
   "nbconvert_exporter": "python",
   "pygments_lexer": "ipython3",
   "version": "3.7.7"
  }
 },
 "nbformat": 4,
 "nbformat_minor": 4
}
