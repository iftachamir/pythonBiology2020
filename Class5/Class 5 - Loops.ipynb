{
 "cells": [
  {
   "cell_type": "markdown",
   "metadata": {},
   "source": [
    "# Class 7 - Loops (`while` and `for`)"
   ]
  },
  {
   "cell_type": "markdown",
   "metadata": {},
   "source": [
    "Loops are repeated series of code until:\n",
    "- a pre-set number of repetitions is completed - `while`\n",
    "- a condition is met - `for`"
   ]
  },
  {
   "cell_type": "markdown",
   "metadata": {},
   "source": [
    "## `while`"
   ]
  },
  {
   "cell_type": "code",
   "execution_count": null,
   "metadata": {},
   "outputs": [],
   "source": [
    "# Count to N\n",
    "n = 11\n",
    "while n <= 10:\n",
    "    print(n)\n",
    "    n = n + 1"
   ]
  },
  {
   "cell_type": "code",
   "execution_count": null,
   "metadata": {},
   "outputs": [],
   "source": [
    "i = 0\n",
    "i += 1  # i = i + 5\n",
    "print(i)"
   ]
  },
  {
   "cell_type": "markdown",
   "metadata": {},
   "source": [
    "### Exercises\n",
    "Write a loop that prints out your name one letter at a time."
   ]
  },
  {
   "cell_type": "code",
   "execution_count": null,
   "metadata": {},
   "outputs": [],
   "source": []
  },
  {
   "cell_type": "markdown",
   "metadata": {},
   "source": [
    "Write a loop that terminates once the password has been entered."
   ]
  },
  {
   "cell_type": "code",
   "execution_count": null,
   "metadata": {},
   "outputs": [],
   "source": []
  },
  {
   "cell_type": "markdown",
   "metadata": {},
   "source": [
    "Create a program that computes the average of a collection of values entered by the user. The user will enter 999 as a sentinel value to indicate\n",
    "that no further values will be provided."
   ]
  },
  {
   "cell_type": "code",
   "execution_count": null,
   "metadata": {},
   "outputs": [],
   "source": []
  },
  {
   "cell_type": "markdown",
   "metadata": {},
   "source": [
    "## `for`"
   ]
  },
  {
   "cell_type": "markdown",
   "metadata": {},
   "source": [
    "### Iterating over a string"
   ]
  },
  {
   "cell_type": "code",
   "execution_count": null,
   "metadata": {},
   "outputs": [],
   "source": [
    "# Iterating over a string\n",
    "name = input('Enter your name:')\n",
    "\n",
    "for each_letter in name:\n",
    "    print(each_letter)\n"
   ]
  },
  {
   "cell_type": "markdown",
   "metadata": {},
   "source": [
    "### Iterating over a list"
   ]
  },
  {
   "cell_type": "code",
   "execution_count": null,
   "metadata": {},
   "outputs": [],
   "source": [
    "# Iterating over a list\n",
    "mylist = [1, 2.0, 'three', 'a', 'b', 'cee']\n",
    "\n",
    "for x in mylist:\n",
    "    print(x)"
   ]
  },
  {
   "cell_type": "markdown",
   "metadata": {},
   "source": [
    "### Using `range()` with `for`"
   ]
  },
  {
   "cell_type": "code",
   "execution_count": null,
   "metadata": {},
   "outputs": [],
   "source": [
    "#print(range(5))\n",
    "#print(type(range(5)))\n",
    "print(list(range(10,1,-1)))"
   ]
  },
  {
   "cell_type": "code",
   "execution_count": null,
   "metadata": {},
   "outputs": [],
   "source": [
    "n = 5\n",
    "for each_n in range(1000):\n",
    "    print('hi')"
   ]
  },
  {
   "cell_type": "code",
   "execution_count": null,
   "metadata": {},
   "outputs": [],
   "source": [
    "n = 10\n",
    "for x in range(n):\n",
    "    print('hi, ' + str(x))"
   ]
  },
  {
   "cell_type": "code",
   "execution_count": null,
   "metadata": {},
   "outputs": [],
   "source": [
    "n = 100\n",
    "for each_n in range(10,n,5):\n",
    "    print('hi, ' + str(each_n))"
   ]
  },
  {
   "cell_type": "code",
   "execution_count": null,
   "metadata": {},
   "outputs": [],
   "source": [
    "n = 100\n",
    "for each_n in range(n,10,-5):\n",
    "    print('hi, ' + str(each_n))"
   ]
  },
  {
   "cell_type": "markdown",
   "metadata": {},
   "source": [
    "### Using `enumerate()` with `for`"
   ]
  },
  {
   "cell_type": "markdown",
   "metadata": {},
   "source": [
    "First, let's look at some examples of what `enumerate` does."
   ]
  },
  {
   "cell_type": "code",
   "execution_count": null,
   "metadata": {},
   "outputs": [],
   "source": [
    "e = enumerate(['a',1,'c'])"
   ]
  },
  {
   "cell_type": "code",
   "execution_count": null,
   "metadata": {},
   "outputs": [],
   "source": [
    "print(e)\n",
    "list(e)"
   ]
  },
  {
   "cell_type": "code",
   "execution_count": null,
   "metadata": {},
   "outputs": [],
   "source": [
    "next(e)"
   ]
  },
  {
   "cell_type": "code",
   "execution_count": null,
   "metadata": {},
   "outputs": [],
   "source": [
    "e = enumerate(range(0,1000000000000,5))\n",
    "type(e)"
   ]
  },
  {
   "cell_type": "code",
   "execution_count": null,
   "metadata": {},
   "outputs": [],
   "source": [
    "next(e)"
   ]
  },
  {
   "cell_type": "markdown",
   "metadata": {},
   "source": [
    "Now, let's use it in a `for` loop"
   ]
  },
  {
   "cell_type": "code",
   "execution_count": null,
   "metadata": {},
   "outputs": [],
   "source": [
    "my_list = ['a', 5, 'c', 10, 'ff', '55']\n",
    "for i, each_item in enumerate(my_list):\n",
    "    print('Current number index is: ', i, '.     And current item is: ', each_item)"
   ]
  },
  {
   "cell_type": "markdown",
   "metadata": {},
   "source": [
    "#### Why the emphasis on `range`\n",
    "The *python* way vs. the \"generic\" way"
   ]
  },
  {
   "cell_type": "code",
   "execution_count": null,
   "metadata": {},
   "outputs": [],
   "source": [
    "days_of_week = ['sunday', 'monday', 'tuesday', 'wednesday', 'thursday']"
   ]
  },
  {
   "cell_type": "code",
   "execution_count": null,
   "metadata": {},
   "outputs": [],
   "source": [
    "# Generic way\n",
    "for i in range(len(days_of_week)):\n",
    "    print(days_of_week[i])"
   ]
  },
  {
   "cell_type": "code",
   "execution_count": null,
   "metadata": {},
   "outputs": [],
   "source": [
    "# Python way / R\n",
    "for each_day in days_of_week:\n",
    "    print(each_day)"
   ]
  },
  {
   "cell_type": "markdown",
   "metadata": {},
   "source": [
    "## Example of using loops"
   ]
  },
  {
   "cell_type": "code",
   "execution_count": null,
   "metadata": {},
   "outputs": [],
   "source": [
    "n_days = 30\n",
    "r0 = 1.5\n",
    "number_of_infected = 1\n",
    "for each_day in range(0, n_days):\n",
    "    \n",
    "    # update how many are infected?\n",
    "    number_of_infected = number_of_infected * r0\n",
    "    \n",
    "    print('Day ' + str(i) + ', number of infected = ' + str(round(number_of_infected,1)))"
   ]
  },
  {
   "cell_type": "code",
   "execution_count": null,
   "metadata": {},
   "outputs": [],
   "source": [
    "import matplotlib.pyplot as plt\n",
    "\n",
    "n_days = 30\n",
    "r0 = 1.5\n",
    "number_of_infected = [1]\n",
    "\n",
    "for each_day in range(1, n_days):\n",
    "    # update how many are infected?\n",
    "    number_of_infected.append(number_of_infected[each_day-1] * r0)\n",
    "    \n",
    "plt.plot(list(range(0,n_days)), number_of_infected)\n",
    "plt.xlabel('Days since first infection')\n",
    "plt.ylabel('Number of people infected')\n",
    "plt.show()"
   ]
  },
  {
   "cell_type": "code",
   "execution_count": null,
   "metadata": {},
   "outputs": [],
   "source": [
    "# INITIATE LOCK-DOWN\n",
    "rate_of_infection = .90\n",
    "day_counter = n_days\n",
    "\n",
    "# Count how many days until number of infected goes below 20,000\n",
    "while number_of_infected[day_counter-1] > 20_000:\n",
    "    \n",
    "    # update how many are infected?\n",
    "    number_of_infected.append(number_of_infected[day_counter-1] * rate_of_infection)\n",
    "    \n",
    "    # update days counter\n",
    "    day_counter = day_counter + 1\n",
    "\n",
    "# How many days until we end lockdown?\n",
    "print(str(day_counter) + ' days until lockdown ends')\n",
    "\n",
    "plt.plot(list(range(0,day_counter)), number_of_infected)\n",
    "plt.xlabel('Days since first infection')\n",
    "plt.ylabel('Number of people infected')\n",
    "plt.show()"
   ]
  },
  {
   "cell_type": "markdown",
   "metadata": {},
   "source": [
    "## `break` and `continue` in loops"
   ]
  },
  {
   "cell_type": "code",
   "execution_count": null,
   "metadata": {},
   "outputs": [],
   "source": [
    "mylist = ['a', 'b', 'cc', 'd', 'ee', 'f']\n",
    "for each_item in mylist:\n",
    "    if len(each_item) > 1:\n",
    "        continue\n",
    "    \n",
    "    print(each_item)\n",
    "\n",
    "print('The last item copied from the list (each_time) = ' + each_item)"
   ]
  },
  {
   "cell_type": "code",
   "execution_count": null,
   "metadata": {},
   "outputs": [],
   "source": [
    "mylist = ['a', 'b', 'cc', 'd', 'ee', 'f']\n",
    "for each_item in mylist:\n",
    "    if len(each_item) > 1:\n",
    "        break\n",
    "    \n",
    "    print(each_item)\n",
    "\n",
    "print('The last item copied from the list (each_time) = ' + each_item)"
   ]
  },
  {
   "cell_type": "code",
   "execution_count": null,
   "metadata": {},
   "outputs": [],
   "source": [
    "for index in range(5, 56):\n",
    "    if index % 2 == 0:\n",
    "        continue\n",
    "    print(index)"
   ]
  },
  {
   "cell_type": "code",
   "execution_count": null,
   "metadata": {},
   "outputs": [],
   "source": [
    "# Write a loop that asks user to enter a password until password is correct\n",
    "password = 'abc123'\n",
    "while True:\n",
    "    enterred_pass = input('Write you password:')\n",
    "    if enterred_pass==password:\n",
    "        break\n",
    "    else:\n",
    "        print('Incorrect')\n",
    "print('Correct password')"
   ]
  },
  {
   "cell_type": "markdown",
   "metadata": {},
   "source": [
    "## `for` exercises"
   ]
  },
  {
   "cell_type": "markdown",
   "metadata": {},
   "source": [
    "A string is a palindrome if it is identical forward and backward. For example “anna”, “civic”, “level” and “hannah” are all examples of palindromic words. Write a program\n",
    "that reads a string from the user and uses a loop to determines whether or not it is a palindrome."
   ]
  },
  {
   "cell_type": "code",
   "execution_count": null,
   "metadata": {},
   "outputs": [],
   "source": []
  },
  {
   "cell_type": "markdown",
   "metadata": {},
   "source": [
    "# Opening and looping over a text file"
   ]
  },
  {
   "cell_type": "markdown",
   "metadata": {},
   "source": [
    "To open a text file, we can use the simple `open()` function. (But there are \"better\" pythonic ways of opening a file.)"
   ]
  },
  {
   "cell_type": "code",
   "execution_count": null,
   "metadata": {},
   "outputs": [],
   "source": [
    "# Open the fasta file and save into variable f \n",
    "f = open('EHD_nucleotide_SHORT.richFasta')\n",
    "print(f)"
   ]
  },
  {
   "cell_type": "markdown",
   "metadata": {},
   "source": [
    "Now let's see what happens when we try to loop over a text file."
   ]
  },
  {
   "cell_type": "code",
   "execution_count": null,
   "metadata": {},
   "outputs": [],
   "source": [
    "# Print each line of the text file, with a line number in the beginning\n",
    "i = 0\n",
    "for l in f:\n",
    "    print(i, l)\n",
    "    i = i + 1"
   ]
  },
  {
   "cell_type": "markdown",
   "metadata": {},
   "source": [
    "We need to remember to `close()` the file as well, since the python kernel is still \"linked\" to it."
   ]
  },
  {
   "cell_type": "code",
   "execution_count": null,
   "metadata": {},
   "outputs": [],
   "source": [
    "f.close()"
   ]
  },
  {
   "cell_type": "markdown",
   "metadata": {},
   "source": [
    "## The \"python way\" of opening a text file"
   ]
  },
  {
   "cell_type": "markdown",
   "metadata": {},
   "source": [
    "# `pathlib` package\n",
    "Python comes with a built-in package for working with files paths."
   ]
  },
  {
   "cell_type": "code",
   "execution_count": null,
   "metadata": {},
   "outputs": [],
   "source": [
    "import pathlib"
   ]
  },
  {
   "cell_type": "code",
   "execution_count": null,
   "metadata": {},
   "outputs": [],
   "source": [
    "home = pathlib.Path.home()\n",
    "home"
   ]
  },
  {
   "cell_type": "code",
   "execution_count": null,
   "metadata": {},
   "outputs": [],
   "source": [
    "cwd = pathlib.Path.cwd()\n",
    "cwd"
   ]
  },
  {
   "cell_type": "code",
   "execution_count": null,
   "metadata": {},
   "outputs": [],
   "source": [
    "my_file_path = cwd / 'EHD_nucleotide_SHORT.richFasta'"
   ]
  },
  {
   "cell_type": "code",
   "execution_count": null,
   "metadata": {},
   "outputs": [],
   "source": [
    "# Open file\n",
    "with open(my_file_path) as my_file:\n",
    "    \n",
    "    # Loop over each line and print it (with additional line number)\n",
    "    i = 0\n",
    "    for line in my_file:\n",
    "        print(i, line)\n",
    "        i = i + 1"
   ]
  },
  {
   "cell_type": "markdown",
   "metadata": {},
   "source": [
    "## `for` and FASTA text file exercise\n",
    "Write a program that reads the FASTA file and then:\n",
    "1. Reports species type\n",
    "2. Asks the user what sequence to look for and then reports, for each line, whether that sequence appeared there or not"
   ]
  },
  {
   "cell_type": "code",
   "execution_count": null,
   "metadata": {},
   "outputs": [],
   "source": []
  },
  {
   "cell_type": "markdown",
   "metadata": {},
   "source": [
    "Modify your above code such that steps 1 and 2 are executed using custom functions. For e.g., step 1 may be done by (your) custom functions called `find_species()` which has as an input the first line of the FASTA file."
   ]
  },
  {
   "cell_type": "code",
   "execution_count": null,
   "metadata": {},
   "outputs": [],
   "source": []
  }
 ],
 "metadata": {
  "kernelspec": {
   "display_name": "Python 3",
   "language": "python",
   "name": "python3"
  },
  "language_info": {
   "codemirror_mode": {
    "name": "ipython",
    "version": 3
   },
   "file_extension": ".py",
   "mimetype": "text/x-python",
   "name": "python",
   "nbconvert_exporter": "python",
   "pygments_lexer": "ipython3",
   "version": "3.7.7"
  }
 },
 "nbformat": 4,
 "nbformat_minor": 4
}
