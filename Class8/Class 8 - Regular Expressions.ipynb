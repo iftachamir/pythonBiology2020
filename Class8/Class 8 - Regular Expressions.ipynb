{
 "cells": [
  {
   "cell_type": "markdown",
   "metadata": {},
   "source": [
    "# Class 8 - **Regular Expressions**\n",
    "This notebook will cover basic principles and syntax for finding text patterns in string variables.\\\n",
    "We will use the `re` package.\\\n",
    "*RE = Regular Expressions.*\n",
    "\n",
    "**Regular expressions** can be used in very complex combinations. For more details and resources, see:\n",
    " - https://docs.python.org/library/re.html\n",
    " - https://www.py4e.com/html3/11-regex\n",
    " - https://developers.google.com/edu/python/regular-expressions\n",
    " - https://regexr.com/"
   ]
  },
  {
   "cell_type": "markdown",
   "metadata": {},
   "source": [
    "Before starting with REs, let's quickly remember built-in string methods."
   ]
  },
  {
   "cell_type": "code",
   "execution_count": null,
   "metadata": {},
   "outputs": [],
   "source": [
    "s = 'David Brent - Age:45 - 0502056655 - TZ:045111912'\n",
    "\n",
    "# Below, fill in the code:\n",
    "## 1. Get a true/false variable indicating whether the string\n",
    "## contains the phone number 0502056655.\n",
    "my_boolean_var = s.find('0502056611')\n",
    "my_boolean_var\n",
    "\n",
    "## 2. Get the index of where the phone number starts\n",
    "#idx = s."
   ]
  },
  {
   "cell_type": "markdown",
   "metadata": {},
   "source": [
    "## `re` package"
   ]
  },
  {
   "cell_type": "code",
   "execution_count": null,
   "metadata": {},
   "outputs": [],
   "source": [
    "import re"
   ]
  },
  {
   "cell_type": "markdown",
   "metadata": {},
   "source": [
    "### `re.search(SEARCH TERM, STRING)`"
   ]
  },
  {
   "cell_type": "code",
   "execution_count": null,
   "metadata": {},
   "outputs": [],
   "source": [
    "s = 'David Brent - Age:45 - 0502056655 - TZ:045111912'\n",
    "m = re.search('0502056655',s)\n",
    "m"
   ]
  },
  {
   "cell_type": "markdown",
   "metadata": {},
   "source": [
    "### Match object\n",
    "A match object contains is an object (variable) with all the resulting information from the search, e.g.:\n",
    "- Is the searched expression in the string? (Boolean)\n",
    "- What was the found substring?"
   ]
  },
  {
   "cell_type": "code",
   "execution_count": null,
   "metadata": {},
   "outputs": [],
   "source": [
    "type(m)"
   ]
  },
  {
   "cell_type": "code",
   "execution_count": null,
   "metadata": {},
   "outputs": [],
   "source": [
    "s = 'David Brent - Age:45 - 0502056655 - TZ:045111912'\n",
    "m = re.search('0502056655',s)\n",
    "if m:\n",
    "    print('Found!')"
   ]
  },
  {
   "cell_type": "code",
   "execution_count": null,
   "metadata": {},
   "outputs": [],
   "source": [
    "m.group()"
   ]
  },
  {
   "cell_type": "markdown",
   "metadata": {},
   "source": [
    "#### Example"
   ]
  },
  {
   "cell_type": "code",
   "execution_count": null,
   "metadata": {},
   "outputs": [],
   "source": [
    "seq = 'GTGGTATTTCTTCGTTGTCTCTGGCGTGGTCACGTTGATTGGTCCGCTATCTGGACCGAAAAAAGTCGTA\\\n",
    "TTCCAAAAATAATACGTATACGTACGCGCGTGAATCACTCGCCACACGACCCAGCGCAGCGCGACAATCG\\\n",
    "AGTGTAGACACATAACATAACTGCCGTAGTCGTCGCCTCCGTGACATCCGCGCCAGCACCAACCCGAATC\\\n",
    "CGGCCGCGTCCCCCGTTTCCAAATCCAATTTCCCCTTTAATTTCGGTGGCTAATATTAGAGTCTTGCGAC\\\n",
    "ATGTTTAGCTTTCTGAAGCGCGAGAAGAACACCCAGGAGGTAGTGGAGAATGTGATCGGCGAGCTGAAGA\\\n",
    "AGATCTATCGGAGCAAGTTGCTGCCGCTGGAGGAGCACTACCAGTTCCACGACTTTCACTCGCCAAAGCT\\\n",
    "CGAGGATCCAGACTTCGATGCGAAGCCCATGATCCTGCTGGTGGGCCAGTACTCCACGGGCAAGACGACC\\\n",
    "TTCATCCGCTATCTGCTGGAACGCGACTTTCCGGGCATTAGAATTGGTCCGGAGCCAACGACGGACCGCT\\\n",
    "TCATCGCCGTGATGTACGACGACAAGGAGGGCGTGATACCGGGCAACGCCCTGGTTGTGGACCCCAAGAA\\\n",
    "GCAGTTCCGGCCGCTGTCCAAGTACGGCAACGCCTTCCTGAATCGCTTCCAATGCAGCAGTGTGGCCTCG\\\n",
    "CCGGTGCTGAACGCCATCTCCATCGTGGACACGCCCGGAATTCTCTCCGGCGAAAAGCAGCGCATCGACA\\\n",
    "GGGGCTACGACTTCACCGGCGTGCTGGAGTGGTTCGCGGAGCGCGTGGACCGCATCATCCTGCTCTTCGA'\n",
    "re.findall('A.A',seq)"
   ]
  },
  {
   "cell_type": "markdown",
   "metadata": {},
   "source": [
    "## Meta (/special) characters:\n",
    "`. ^ $ * + ? { } [ ] \\ | ( )`"
   ]
  },
  {
   "cell_type": "markdown",
   "metadata": {},
   "source": [
    "### `[]`\n",
    "a list/set of characters"
   ]
  },
  {
   "cell_type": "code",
   "execution_count": null,
   "metadata": {},
   "outputs": [],
   "source": [
    "# Find the age\n",
    "re.search(':[0-9][0-9] -',s)"
   ]
  },
  {
   "cell_type": "code",
   "execution_count": null,
   "metadata": {},
   "outputs": [],
   "source": [
    "# Alternately:\n",
    "re.search(':\\d\\d',s)"
   ]
  },
  {
   "cell_type": "code",
   "execution_count": null,
   "metadata": {},
   "outputs": [],
   "source": [
    "s = 'David Brent - Age:45 - 0502056655 - TZ:045111912'\n",
    "re.search('\\d\\d\\d',s)"
   ]
  },
  {
   "cell_type": "markdown",
   "metadata": {},
   "source": [
    "#### Exercise\n",
    "Write a program that checks whether each of the restriction enzymes appears in the sequence. If yes, print the enzyme name, if not print that the enzyme does no appear."
   ]
  },
  {
   "cell_type": "code",
   "execution_count": null,
   "metadata": {},
   "outputs": [],
   "source": [
    "sequence1 = 'atatatccgggatatatcccggatatat'\n",
    "\n",
    "restrictionEnzymes = {}\n",
    "restrictionEnzymes['bamH1'] = ['ggatcc',0]\n",
    "restrictionEnzymes['sma1'] = ['cccggg',2]\n",
    "restrictionEnzymes['nci1'] = ['cc[cg]gg',2]\n",
    "restrictionEnzymes['scrF1'] = ['cc[atcg]gg',2]\n"
   ]
  },
  {
   "cell_type": "code",
   "execution_count": null,
   "metadata": {},
   "outputs": [],
   "source": [
    "for key in restrictionEnzymes:\n",
    "    print(re.search(restrictionEnzymes[key][0],sequence1))"
   ]
  },
  {
   "cell_type": "markdown",
   "metadata": {},
   "source": [
    "### `.`\n",
    "*any* character"
   ]
  },
  {
   "cell_type": "code",
   "execution_count": null,
   "metadata": {},
   "outputs": [],
   "source": [
    "re.search('05........',s)"
   ]
  },
  {
   "cell_type": "code",
   "execution_count": null,
   "metadata": {},
   "outputs": [],
   "source": [
    "# Alternately\n",
    "re.search('05.{7}',s)"
   ]
  },
  {
   "cell_type": "markdown",
   "metadata": {},
   "source": [
    "#### EXERCISE\n",
    "Write a `re.search()` command to extract the T.Z."
   ]
  },
  {
   "cell_type": "code",
   "execution_count": null,
   "metadata": {},
   "outputs": [],
   "source": [
    "# Write a re.search() command to extract the T.Z.\n",
    "XXX"
   ]
  },
  {
   "cell_type": "markdown",
   "metadata": {},
   "source": [
    "#### \"Escaping\"\n",
    "What if we are actually looking for the \".\" character? (or any other meta-character)"
   ]
  },
  {
   "cell_type": "code",
   "execution_count": null,
   "metadata": {},
   "outputs": [],
   "source": [
    "s = 'David Brent - Age:45 - 0502056655 - TZ:045111912 - davidbrent@gmail.com'\n",
    "re.search('\\.',s)"
   ]
  },
  {
   "cell_type": "code",
   "execution_count": null,
   "metadata": {},
   "outputs": [],
   "source": [
    "re.search('\\.[a-zA-Z]+',s)"
   ]
  },
  {
   "cell_type": "markdown",
   "metadata": {},
   "source": [
    "### `^`\n",
    "negative of a character"
   ]
  },
  {
   "cell_type": "code",
   "execution_count": null,
   "metadata": {},
   "outputs": [],
   "source": [
    "re.search('[^a-zA-Z]',s)"
   ]
  },
  {
   "cell_type": "code",
   "execution_count": null,
   "metadata": {},
   "outputs": [],
   "source": [
    "seq = 'TGCCAAGCAGGAACTCATCAAATCGAAACTGCCCAACTCGGTGCTCAGCAAGATCTGGAAACTGTCGGAC'\n",
    "re.search('[^CGT]', seq)"
   ]
  },
  {
   "cell_type": "markdown",
   "metadata": {},
   "source": [
    "### `\\s`\n",
    "Whitespace"
   ]
  },
  {
   "cell_type": "code",
   "execution_count": null,
   "metadata": {},
   "outputs": [],
   "source": [
    "re.search('\\s',s)\n",
    "s[4:7]"
   ]
  },
  {
   "cell_type": "markdown",
   "metadata": {},
   "source": [
    "#### Upper and lower case meta-characters (`\\s` vs. `\\S`)\n",
    "Upper (capitalized) meta-characters are the negation - so think of `\\S` as `not('\\s')`"
   ]
  },
  {
   "cell_type": "code",
   "execution_count": null,
   "metadata": {},
   "outputs": [],
   "source": [
    "l = ['This starts starts with a word - \"This\"', '\\tThis string started with a tab']\n",
    "print(l[0])\n",
    "print(l[1])"
   ]
  },
  {
   "cell_type": "code",
   "execution_count": null,
   "metadata": {},
   "outputs": [],
   "source": [
    "print(re.search('\\s',l[0]))\n",
    "print(re.search('\\s',l[1]))"
   ]
  },
  {
   "cell_type": "code",
   "execution_count": null,
   "metadata": {},
   "outputs": [],
   "source": [
    "print(re.search('\\S',l[0]))\n",
    "print(re.search('\\S',l[1]))"
   ]
  },
  {
   "cell_type": "code",
   "execution_count": null,
   "metadata": {},
   "outputs": [],
   "source": [
    "s = '05020555555-is my phone number'\n",
    "re.search('\\d',s)"
   ]
  },
  {
   "cell_type": "code",
   "execution_count": null,
   "metadata": {},
   "outputs": [],
   "source": [
    "re.search('\\D',s)"
   ]
  },
  {
   "cell_type": "markdown",
   "metadata": {},
   "source": [
    "## Quantifiers\n",
    "How many times the portion must appear:\n",
    "- `*` zero or more occurences\n",
    "- `+` one or more occurences\n",
    "- `?` one or zero (none) occurences"
   ]
  },
  {
   "cell_type": "code",
   "execution_count": null,
   "metadata": {},
   "outputs": [],
   "source": [
    "seq = 'TGCCAAGCAGGAACTCATCAAATCGAAACTGCCCAACTCGGTGCTCAGCAAGATCTGGAAACTGTCGGAC'\n",
    "re.search('CA+[ACGT]',seq)"
   ]
  },
  {
   "cell_type": "markdown",
   "metadata": {},
   "source": [
    "#### Exercise\n",
    "Find a sequence that starts with G, ends with A, and in-between has at least one occurence of C."
   ]
  },
  {
   "cell_type": "code",
   "execution_count": null,
   "metadata": {},
   "outputs": [],
   "source": [
    "# Find a sequence that starts with G, ends with A,\n",
    "# and in-between has at least one occurence of C.\n",
    "XXX"
   ]
  },
  {
   "cell_type": "markdown",
   "metadata": {},
   "source": [
    "### `.*`\n",
    "Use to find any 'fillers'."
   ]
  },
  {
   "cell_type": "code",
   "execution_count": null,
   "metadata": {},
   "outputs": [],
   "source": [
    "seq = 'TGCCAAGCAGGAACTCATCAAATCGAAACTGCCCAACTCGGTGCTCAGCAAGATCTGGAAACTGTCGGAC'\n",
    "re.search('AA.*AA',seq)"
   ]
  },
  {
   "cell_type": "markdown",
   "metadata": {},
   "source": [
    "`.*` is **greedy**. What if we want the *shortest* sequence?"
   ]
  },
  {
   "cell_type": "code",
   "execution_count": null,
   "metadata": {},
   "outputs": [],
   "source": [
    "re.search('AA.*?AA',seq)"
   ]
  },
  {
   "cell_type": "markdown",
   "metadata": {},
   "source": [
    "### `{number of repetitions}` or `{minimum,maximum}`\n",
    "Set length of spaces"
   ]
  },
  {
   "cell_type": "code",
   "execution_count": null,
   "metadata": {},
   "outputs": [],
   "source": [
    "sequence1 = 'atatatccgggatatatcccggatatat'\n",
    "re.findall('cc.{3}', sequence1)"
   ]
  },
  {
   "cell_type": "code",
   "execution_count": null,
   "metadata": {},
   "outputs": [],
   "source": [
    "seq = 'TGCCAAGCAGGAACTCATCAAATCGAAACTGCCCAACTCGGTGCTCAGCAAGATCTGGAAACTGTCGGAC'\n",
    "re.search('AA.{10,20}AA', seq)"
   ]
  },
  {
   "cell_type": "markdown",
   "metadata": {},
   "source": [
    "#### Exercise\n",
    "Find *all* sequences that are flanked (begin with and end with) 'AA' and are between 7 and 14 characters (neucleotides) long"
   ]
  },
  {
   "cell_type": "code",
   "execution_count": null,
   "metadata": {},
   "outputs": [],
   "source": [
    "seq = 'TGCCAAGCAGGAACTCATCAAATCGAAACTGCCCAACTCGGTGCTCAGCAAGATCTGGAAACTGTCGGAC'\n",
    "XXX"
   ]
  },
  {
   "cell_type": "markdown",
   "metadata": {},
   "source": [
    "## Grouping `(regexp)`"
   ]
  },
  {
   "cell_type": "code",
   "execution_count": null,
   "metadata": {},
   "outputs": [],
   "source": [
    "seq = 'TGCCAAGCAGGAACTCTCTACAAATCGAAACTGCCCAACTCGGTGCTCAGCAAGATCTGGAAACTGTCGGAC'\n",
    "re.search('(CT)+',seq)"
   ]
  },
  {
   "cell_type": "markdown",
   "metadata": {},
   "source": [
    "Grouping works well with the OR condition - `|`"
   ]
  },
  {
   "cell_type": "code",
   "execution_count": null,
   "metadata": {},
   "outputs": [],
   "source": [
    "re.search('(AAA|CCC)',seq)"
   ]
  },
  {
   "cell_type": "markdown",
   "metadata": {},
   "source": [
    "## `re.findall()`\n",
    "`findall()` is similar to `search()`, but it doesn't stop at the first match. Instead, it returns all the matches in the string."
   ]
  },
  {
   "cell_type": "code",
   "execution_count": null,
   "metadata": {},
   "outputs": [],
   "source": [
    "print(seq)\n",
    "re.findall('AA.*?AA',seq)"
   ]
  },
  {
   "cell_type": "markdown",
   "metadata": {},
   "source": [
    "Note that the above returned list *does not* contain overlapping sequences.\\\n",
    "If you want overlaps, you will need to (first time [install](https://youtu.be/PPKj9ic5MmI)) and import `regex` package. `regex` is a third-party python package."
   ]
  },
  {
   "cell_type": "code",
   "execution_count": null,
   "metadata": {},
   "outputs": [],
   "source": [
    "import regex"
   ]
  },
  {
   "cell_type": "code",
   "execution_count": null,
   "metadata": {},
   "outputs": [],
   "source": [
    "m = regex.findall('AA.*?AA', seq, overlapped=True)\n",
    "m"
   ]
  },
  {
   "cell_type": "markdown",
   "metadata": {},
   "source": [
    "Great, we have also overlapping sequences.\\\n",
    "But, what we didn't get with either `re` or `regex` is the **indices of where in the sequence** the substring is..."
   ]
  },
  {
   "cell_type": "markdown",
   "metadata": {},
   "source": [
    "## `re.finditer()`"
   ]
  },
  {
   "cell_type": "code",
   "execution_count": null,
   "metadata": {},
   "outputs": [],
   "source": [
    "print('Sequence:', seq)\n",
    "m_iter = re.finditer('AA.*?AA',seq)\n",
    "(m_iter)"
   ]
  },
  {
   "cell_type": "code",
   "execution_count": null,
   "metadata": {},
   "outputs": [],
   "source": [
    "next(m_iter)"
   ]
  },
  {
   "cell_type": "code",
   "execution_count": null,
   "metadata": {},
   "outputs": [],
   "source": [
    "print('Sequence:', seq)\n",
    "m_iter = re.finditer('AA.*?AA',seq)\n",
    "for each_match in m_iter:\n",
    "    print(each_match.group(), each_match.start(), each_match.end())"
   ]
  },
  {
   "cell_type": "markdown",
   "metadata": {},
   "source": [
    "## Exercises"
   ]
  },
  {
   "cell_type": "markdown",
   "metadata": {},
   "source": [
    "Write an 'email verifying program'. The program that asks a user to input an email address, and the program checks if it:\n",
    "1. Contains a @ character\n",
    "2. Has a string before and after the @\n",
    "4. The string after @ is followed by either .com, .net, or .co.il"
   ]
  },
  {
   "cell_type": "code",
   "execution_count": null,
   "metadata": {},
   "outputs": [],
   "source": [
    "email = input()\n",
    "m = re.search(XXX, email)\n"
   ]
  },
  {
   "cell_type": "code",
   "execution_count": null,
   "metadata": {},
   "outputs": [],
   "source": []
  }
 ],
 "metadata": {
  "kernelspec": {
   "display_name": "Python 3",
   "language": "python",
   "name": "python3"
  },
  "language_info": {
   "codemirror_mode": {
    "name": "ipython",
    "version": 3
   },
   "file_extension": ".py",
   "mimetype": "text/x-python",
   "name": "python",
   "nbconvert_exporter": "python",
   "pygments_lexer": "ipython3",
   "version": "3.7.7"
  }
 },
 "nbformat": 4,
 "nbformat_minor": 4
}
